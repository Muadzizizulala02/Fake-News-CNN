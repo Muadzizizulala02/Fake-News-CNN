{
  "nbformat": 4,
  "nbformat_minor": 0,
  "metadata": {
    "colab": {
      "provenance": []
    },
    "kernelspec": {
      "name": "python3",
      "display_name": "Python 3"
    },
    "language_info": {
      "name": "python"
    }
  },
  "cells": [
    {
      "cell_type": "code",
      "execution_count": null,
      "metadata": {
        "id": "rPhm_zASuRc-"
      },
      "outputs": [],
      "source": [
        "# !pip install anvil-uplink"
      ]
    },
    {
      "cell_type": "code",
      "source": [
        "# Step 2: Import necessary libraries\n",
        "import numpy as np\n",
        "import pickle\n",
        "import anvil.server\n",
        "from tensorflow.keras.preprocessing.sequence import pad_sequences\n",
        "from tensorflow.keras.models import load_model\n",
        "import requests\n",
        "from bs4 import BeautifulSoup\n",
        "\n",
        "import nltk\n",
        "from nltk.corpus import stopwords\n",
        "from nltk.tokenize import word_tokenize, sent_tokenize\n",
        "from collections import Counter\n",
        "import string\n",
        "from nltk.stem import PorterStemmer\n",
        "import re\n",
        "import anvil.server\n",
        "\n",
        "# Download necessary NLTK data\n",
        "nltk.download('punkt')\n",
        "nltk.download('stopwords')\n",
        "nltk.download('punkt_tab')"
      ],
      "metadata": {
        "colab": {
          "base_uri": "https://localhost:8080/"
        },
        "id": "yIFH-n6kuWjt",
        "outputId": "ce7b1937-8afe-44d8-f617-87b43926aabd"
      },
      "execution_count": null,
      "outputs": [
        {
          "output_type": "stream",
          "name": "stderr",
          "text": [
            "[nltk_data] Downloading package punkt to /root/nltk_data...\n",
            "[nltk_data]   Package punkt is already up-to-date!\n",
            "[nltk_data] Downloading package stopwords to /root/nltk_data...\n",
            "[nltk_data]   Package stopwords is already up-to-date!\n",
            "[nltk_data] Downloading package punkt_tab to /root/nltk_data...\n",
            "[nltk_data]   Package punkt_tab is already up-to-date!\n"
          ]
        },
        {
          "output_type": "execute_result",
          "data": {
            "text/plain": [
              "True"
            ]
          },
          "metadata": {},
          "execution_count": 18
        }
      ]
    },
    {
      "cell_type": "code",
      "source": [
        "# Step 3: Connect to Anvil app using uplink key\n",
        "anvil.server.connect(\"server_KG3R5A4HSDNC6OGSNPCDH4UL-UWL7ZNVWPOH3EQBW\")"
      ],
      "metadata": {
        "id": "6ZKJWT6Cuaoz"
      },
      "execution_count": null,
      "outputs": []
    },
    {
      "cell_type": "code",
      "source": [
        "# Step 4: Load the model and tokenizer\n",
        "model = load_model('/content/drive/MyDrive/FYP ITEMS/news_cnn_model.keras')\n",
        "with open('/content/drive/MyDrive/FYP ITEMS/tokenizer.pkl', 'rb') as handle:\n",
        "    tokenizer = pickle.load(handle)"
      ],
      "metadata": {
        "id": "Q6uS2F9GucfH"
      },
      "execution_count": null,
      "outputs": []
    },
    {
      "cell_type": "code",
      "source": [
        "\n",
        "import re\n",
        "from nltk.corpus import stopwords\n",
        "from nltk.stem import PorterStemmer\n",
        "import nltk\n",
        "\n",
        "# Download NLTK stopwords if not already available\n",
        "nltk.download('stopwords')\n",
        "\n",
        "# Initialize stopwords set and stemmer\n",
        "stop_words = set(stopwords.words('english'))\n",
        "ps = PorterStemmer()\n",
        "\n",
        "max_len=300\n",
        "\n",
        "# Define the text preprocessing function\n",
        "def wordopt(text):\n",
        "    # Lowercase the text\n",
        "    text = text.lower()\n",
        "    # Remove URLs\n",
        "    text = re.sub(r'https?://\\S+|www\\.\\S+', '', text)\n",
        "    # Remove punctuation and digits\n",
        "    text = re.sub(r'[^\\w\\s]', '', text)\n",
        "    text = re.sub(r'\\d', '', text)\n",
        "    # Remove newlines\n",
        "    text = re.sub(r'\\n', ' ', text)\n",
        "    # Split text into words\n",
        "    words = text.split()\n",
        "    # Remove stopwords and apply stemming\n",
        "    words = [ps.stem(word) for word in words if word not in stop_words]\n",
        "    # Join words back into a single string\n",
        "    return ' '.join(words)\n",
        "\n",
        "# Updated preprocessing function\n",
        "def preprocess_input(news, tokenizer, max_len=300):\n",
        "    # Apply text preprocessing (wordopt) before tokenizing\n",
        "    news = wordopt(news)\n",
        "    news_seq = tokenizer.texts_to_sequences([news])\n",
        "    news_pad = pad_sequences(news_seq, maxlen=max_len)\n",
        "    return news_pad\n",
        "\n",
        "\n",
        "# Output label function\n",
        "def output_label(n):\n",
        "    if n == 0:\n",
        "        return \"It is Fake News\"\n",
        "    elif n == 1:\n",
        "        return \"It is Genuine News\"\n"
      ],
      "metadata": {
        "id": "I2xm_Dp6uf_B",
        "colab": {
          "base_uri": "https://localhost:8080/"
        },
        "outputId": "6a932179-6381-4f00-d7d1-c6739739b8ab"
      },
      "execution_count": null,
      "outputs": [
        {
          "output_type": "stream",
          "name": "stderr",
          "text": [
            "[nltk_data] Downloading package stopwords to /root/nltk_data...\n",
            "[nltk_data]   Package stopwords is already up-to-date!\n"
          ]
        }
      ]
    },
    {
      "cell_type": "code",
      "source": [
        "max_len = 300\n",
        "\n",
        "def manual_testing(news):\n",
        "    testing_news = [news]\n",
        "    testing_news_seq = tokenizer.texts_to_sequences(testing_news)\n",
        "    testing_news_pad = pad_sequences(testing_news_seq, maxlen=max_len, padding='post')\n",
        "\n",
        "    # Ensure input shape matches model expectation\n",
        "    if testing_news_pad.shape[1] != max_len:\n",
        "        raise ValueError(f\"Incorrect input shape: {testing_news_pad.shape}. Expected second dimension to be {max_len}.\")\n",
        "\n",
        "    pred_cnn = model.predict(testing_news_pad)\n",
        "    return output_label(int(np.round(pred_cnn[0])))"
      ],
      "metadata": {
        "id": "9XhK5Igmuh5E"
      },
      "execution_count": null,
      "outputs": []
    },
    {
      "cell_type": "code",
      "source": [
        "news_seq = tokenizer.texts_to_sequences([\"test input\"])\n",
        "print(\"Tokenized sequence:\", news_seq)\n"
      ],
      "metadata": {
        "colab": {
          "base_uri": "https://localhost:8080/"
        },
        "id": "RvJStT9z0k5p",
        "outputId": "6142fee4-5a26-41e0-c16d-a3e0218c2ad2"
      },
      "execution_count": null,
      "outputs": [
        {
          "output_type": "stream",
          "name": "stdout",
          "text": [
            "Tokenized sequence: [[1256, 1]]\n"
          ]
        }
      ]
    },
    {
      "cell_type": "code",
      "source": [
        "print(model.input_shape)\n"
      ],
      "metadata": {
        "colab": {
          "base_uri": "https://localhost:8080/"
        },
        "id": "Cq9BotH00rH2",
        "outputId": "22fa0780-7be9-4db4-f9d0-9cfb9a8d7c22"
      },
      "execution_count": null,
      "outputs": [
        {
          "output_type": "stream",
          "name": "stdout",
          "text": [
            "(None, 300)\n"
          ]
        }
      ]
    }
  ]
}