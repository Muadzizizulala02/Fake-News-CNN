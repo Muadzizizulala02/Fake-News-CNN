{
  "nbformat": 4,
  "nbformat_minor": 0,
  "metadata": {
    "colab": {
      "provenance": []
    },
    "kernelspec": {
      "name": "python3",
      "display_name": "Python 3"
    },
    "language_info": {
      "name": "python"
    }
  },
  "cells": [
    {
      "cell_type": "code",
      "execution_count": null,
      "metadata": {
        "id": "rPhm_zASuRc-"
      },
      "outputs": [],
      "source": [
        "!pip install anvil-uplink"
      ]
    },
    {
      "cell_type": "code",
      "source": [
        "# Step 2: Import necessary libraries\n",
        "import numpy as np\n",
        "import pickle\n",
        "import anvil.server\n",
        "from tensorflow.keras.preprocessing.sequence import pad_sequences\n",
        "from tensorflow.keras.models import load_model\n",
        "import requests\n",
        "from bs4 import BeautifulSoup\n",
        "\n",
        "import nltk\n",
        "from nltk.corpus import stopwords\n",
        "from nltk.tokenize import word_tokenize, sent_tokenize\n",
        "from collections import Counter\n",
        "import string\n",
        "from nltk.stem import PorterStemmer\n",
        "import re\n",
        "import anvil.server\n",
        "\n",
        "# Download necessary NLTK data\n",
        "nltk.download('punkt')\n",
        "nltk.download('stopwords')\n",
        "nltk.download('punkt_tab')"
      ],
      "metadata": {
        "id": "yIFH-n6kuWjt"
      },
      "execution_count": null,
      "outputs": []
    },
    {
      "cell_type": "code",
      "source": [
        "# Step 3: Connect to Anvil app using uplink key\n",
        "anvil.server.connect(\"xxx\")"
      ],
      "metadata": {
        "id": "6ZKJWT6Cuaoz"
      },
      "execution_count": null,
      "outputs": []
    },
    {
      "cell_type": "code",
      "source": [
        "# Step 4: Load the model and tokenizer\n",
        "model = load_model('/content/drive/MyDrive/FYP ITEMS/news_cnn_model.keras')\n",
        "with open('/content/drive/MyDrive/FYP ITEMS/tokenizer.pkl', 'rb') as handle:\n",
        "    tokenizer = pickle.load(handle)"
      ],
      "metadata": {
        "id": "Q6uS2F9GucfH"
      },
      "execution_count": null,
      "outputs": []
    },
    {
      "cell_type": "code",
      "source": [
        "\n",
        "import re\n",
        "from nltk.corpus import stopwords\n",
        "from nltk.stem import PorterStemmer\n",
        "import nltk\n",
        "\n",
        "# Download NLTK stopwords if not already available\n",
        "nltk.download('stopwords')\n",
        "\n",
        "# Initialize stopwords set and stemmer\n",
        "stop_words = set(stopwords.words('english'))\n",
        "ps = PorterStemmer()\n",
        "\n",
        "# Define the text preprocessing function\n",
        "def wordopt(text):\n",
        "    # Lowercase the text\n",
        "    text = text.lower()\n",
        "    # Remove URLs\n",
        "    text = re.sub(r'https?://\\S+|www\\.\\S+', '', text)\n",
        "    # Remove punctuation and digits\n",
        "    text = re.sub(r'[^\\w\\s]', '', text)\n",
        "    text = re.sub(r'\\d', '', text)\n",
        "    # Remove newlines\n",
        "    text = re.sub(r'\\n', ' ', text)\n",
        "    # Split text into words\n",
        "    words = text.split()\n",
        "    # Remove stopwords and apply stemming\n",
        "    words = [ps.stem(word) for word in words if word not in stop_words]\n",
        "    # Join words back into a single string\n",
        "    return ' '.join(words)\n",
        "\n",
        "# Updated preprocessing function\n",
        "def preprocess_input(news, tokenizer, max_len=500):\n",
        "    # Apply text preprocessing (wordopt) before tokenizing\n",
        "    news = wordopt(news)\n",
        "    news_seq = tokenizer.texts_to_sequences([news])\n",
        "    news_pad = pad_sequences(news_seq, maxlen=max_len)\n",
        "    return news_pad\n",
        "\n",
        "max_len=500\n",
        "\n",
        "# Output label function\n",
        "def output_label(n):\n",
        "    if n == 0:\n",
        "        return \"It is Fake News\"\n",
        "    elif n == 1:\n",
        "        return \"It is Genuine News\"\n"
      ],
      "metadata": {
        "id": "I2xm_Dp6uf_B"
      },
      "execution_count": null,
      "outputs": []
    },
    {
      "cell_type": "code",
      "source": [
        "#  Step 6: Define a function for manual testing\n",
        "@anvil.server.callable\n",
        "def manual_testing(news):\n",
        "    testing_news = [news]\n",
        "    testing_news_seq = tokenizer.texts_to_sequences(testing_news)\n",
        "    testing_news_pad = pad_sequences(testing_news_seq, maxlen=max_len)\n",
        "    pred_cnn = model.predict(testing_news_pad)\n",
        "    return output_label(int(np.round(pred_cnn[0])))\n"
      ],
      "metadata": {
        "id": "9XhK5Igmuh5E"
      },
      "execution_count": null,
      "outputs": []
    }
  ]
}